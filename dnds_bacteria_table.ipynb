{
 "cells": [
  {
   "cell_type": "code",
   "execution_count": 134,
   "metadata": {
    "collapsed": true
   },
   "outputs": [],
   "source": [
    "import re, os\n",
    "import numpy as np\n",
    "import pandas as pd\n",
    "import Bio\n",
    "from Bio import SeqIO\n",
    "from Bio.Seq import Seq\n",
    "from Bio.Alphabet import IUPAC\n",
    "from Bio.Data import CodonTable\n",
    "import scipy.stats as sc"
   ]
  },
  {
   "cell_type": "code",
   "execution_count": 135,
   "metadata": {
    "collapsed": true
   },
   "outputs": [],
   "source": [
    "files = [i for i in os.listdir('coding_genes_moralis_ref_ancient/') if 'fasta' in i]"
   ]
  },
  {
   "cell_type": "code",
   "execution_count": 136,
   "metadata": {
    "collapsed": true
   },
   "outputs": [],
   "source": [
    "dat_temp = Bio.SeqIO.to_dict(Bio.SeqIO.parse(open('coding_genes_moralis_ref_ancient/'+files[0], 'r'), 'fasta'))"
   ]
  },
  {
   "cell_type": "code",
   "execution_count": 137,
   "metadata": {
    "collapsed": false
   },
   "outputs": [],
   "source": [
    "def all_gap_or_n(seq_data):\n",
    "    str_list = list(seq_data)\n",
    "    count_gap = sum([i=='-' or i=='n' for i in str_list])\n",
    "    return count_gap == len(str_list)"
   ]
  },
  {
   "cell_type": "code",
   "execution_count": 138,
   "metadata": {
    "collapsed": true
   },
   "outputs": [],
   "source": [
    "## Take each triplet\n",
    "## Check whether there are changes at the nucleotide level\n",
    "## Translate to AA, check whether they are the same\n",
    "## count to a nonsynonymous or a synonymous"
   ]
  },
  {
   "cell_type": "code",
   "execution_count": 155,
   "metadata": {
    "collapsed": false
   },
   "outputs": [],
   "source": [
    "slices = [[i, i+3] for i in range(0, len(dat_temp[dat_temp.keys()[0]]), 3)]"
   ]
  },
  {
   "cell_type": "code",
   "execution_count": 196,
   "metadata": {
    "collapsed": false
   },
   "outputs": [],
   "source": [
    "def get_dnds(dat_temp):\n",
    "    '''\n",
    "    Note that dat_temp has to be a dictionary with two sequences only\n",
    "    '''\n",
    "    s1 = str(dat_temp[dat_temp.keys()[0]].seq)\n",
    "    s2 = str(dat_temp[dat_temp.keys()[1]].seq)\n",
    "    last_site = int(len(seq_data)/3.)*3\n",
    "    s1 = s1[:last_site]\n",
    "    s2 = s2[:last_site]\n",
    "    if any([all_gap_or_n(i) for i in [s1, s2]]):\n",
    "        return [0, 0]\n",
    "\n",
    "    count_synonymous = 0\n",
    "    count_nonsynonymous = 0\n",
    "    for s in slices:\n",
    "        s1_nuc = s1[s[0]:s[1]]\n",
    "        s2_nuc = s2[s[0]:s[1]]\n",
    "    \n",
    "        if any([q in ['-', 'n', 'x', 'X'] for q in s1_nuc ]) or any([q in ['-', 'n', 'x', 'X'] for q in s2_nuc ]):\n",
    "            # missing_data\n",
    "            continue\n",
    "        else:  \n",
    "            s1_aa = Bio.Seq.translate(s1_nuc, table = 'Bacterial')\n",
    "            s2_aa = Bio.Seq.translate(s2_nuc, table = 'Bacterial')\n",
    "            if not(s1_aa == s2_aa):\n",
    "                count_nonsynonymous = count_nonsynonymous+1\n",
    "            elif not(s1_nuc == s2_nuc):\n",
    "                count_synonymous = count_synonymous+1\n",
    "    \n",
    "    return [count_nonsynonymous, count_synonymous]"
   ]
  },
  {
   "cell_type": "code",
   "execution_count": 197,
   "metadata": {
    "collapsed": false
   },
   "outputs": [],
   "source": [
    "files = [i for i in os.listdir('coding_genes_moralis_ref_ancient/') if 'fasta' in i]\n",
    "\n",
    "coding_genes_dnds = list()\n",
    "for f in files:\n",
    "    dat_temp = Bio.SeqIO.to_dict(Bio.SeqIO.parse(open('coding_genes_moralis_ref_ancient/'+f, 'r'), 'fasta'))\n",
    "    dnds_temp = get_dnds(dat_temp)\n",
    "    coding_genes_dnds.append([f, dnds_temp[0], dnds_temp[1]])\n",
    "    out_frame = pd.DataFrame(coding_genes_dnds)\n",
    "\n",
    "    out_frame.columns = ['gene_name', 'ns', 'ss']\n",
    "\n",
    "    out_frame.to_csv('coding_genes_moralis_ref_ancient_dnds.csv')"
   ]
  },
  {
   "cell_type": "code",
   "execution_count": 198,
   "metadata": {
    "collapsed": false
   },
   "outputs": [
    {
     "data": {
      "text/plain": [
       "{'M_oralis_MAPCycle0_ConsensusStrictN_nocontigs': SeqRecord(seq=Seq('-------------------------------------------------nnnnn...nnn', SingleLetterAlphabet()), id='M_oralis_MAPCycle0_ConsensusStrictN_nocontigs', name='M_oralis_MAPCycle0_ConsensusStrictN_nocontigs', description='M_oralis_MAPCycle0_ConsensusStrictN_nocontigs', dbxrefs=[]),\n",
       " 'MethanobrevibacteroralisJMR01': SeqRecord(seq=Seq('acaaaattatctaacttattagccatatctgtattagataaatctgtacttgca...ccc', SingleLetterAlphabet()), id='MethanobrevibacteroralisJMR01', name='MethanobrevibacteroralisJMR01', description='MethanobrevibacteroralisJMR01', dbxrefs=[])}"
      ]
     },
     "execution_count": 198,
     "metadata": {},
     "output_type": "execute_result"
    }
   ],
   "source": [
    "dat_temp"
   ]
  },
  {
   "cell_type": "code",
   "execution_count": 190,
   "metadata": {
    "collapsed": false
   },
   "outputs": [
    {
     "name": "stdout",
     "output_type": "stream",
     "text": [
      "trying here\n"
     ]
    },
    {
     "data": {
      "text/plain": [
       "[7, 6]"
      ]
     },
     "execution_count": 190,
     "metadata": {},
     "output_type": "execute_result"
    }
   ],
   "source": [
    "get_dnds(dat_temp)"
   ]
  },
  {
   "cell_type": "code",
   "execution_count": null,
   "metadata": {
    "collapsed": false
   },
   "outputs": [],
   "source": []
  },
  {
   "cell_type": "code",
   "execution_count": null,
   "metadata": {
    "collapsed": false
   },
   "outputs": [],
   "source": []
  },
  {
   "cell_type": "code",
   "execution_count": null,
   "metadata": {
    "collapsed": true
   },
   "outputs": [],
   "source": []
  }
 ],
 "metadata": {
  "kernelspec": {
   "display_name": "Python 2",
   "language": "python",
   "name": "python2"
  },
  "language_info": {
   "codemirror_mode": {
    "name": "ipython",
    "version": 2
   },
   "file_extension": ".py",
   "mimetype": "text/x-python",
   "name": "python",
   "nbconvert_exporter": "python",
   "pygments_lexer": "ipython2",
   "version": "2.7.11"
  }
 },
 "nbformat": 4,
 "nbformat_minor": 0
}
