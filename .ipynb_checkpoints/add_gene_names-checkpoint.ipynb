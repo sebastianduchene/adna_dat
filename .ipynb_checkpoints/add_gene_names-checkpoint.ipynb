{
 "cells": [
  {
   "cell_type": "code",
   "execution_count": 13,
   "metadata": {
    "collapsed": true
   },
   "outputs": [],
   "source": [
    "dat <- read.table('coding_genes_moralis_ref_ancient_dnds.csv', head = T, \n",
    "                  sep = ',', row.names = 1)\n",
    "dat$annotation_data <- NA"
   ]
  },
  {
   "cell_type": "code",
   "execution_count": 14,
   "metadata": {
    "collapsed": false
   },
   "outputs": [
    {
     "data": {
      "text/html": [
       "<table>\n",
       "<thead><tr><th></th><th scope=col>gene_name</th><th scope=col>dn_ds</th><th scope=col>annotation_data</th></tr></thead>\n",
       "<tbody>\n",
       "\t<tr><th scope=row>0</th><td>gene1198.fasta</td><td>0.246913580247</td><td>NA            </td></tr>\n",
       "\t<tr><th scope=row>1</th><td>gene1199.fasta</td><td>0.342857142857</td><td>NA            </td></tr>\n",
       "\t<tr><th scope=row>2</th><td>gene1200.fasta</td><td>0             </td><td>NA            </td></tr>\n",
       "\t<tr><th scope=row>3</th><td>gene1201.fasta</td><td>6             </td><td>NA            </td></tr>\n",
       "\t<tr><th scope=row>4</th><td>gene1202.fasta</td><td>2.66666666667 </td><td>NA            </td></tr>\n",
       "\t<tr><th scope=row>5</th><td>gene1203.fasta</td><td>2.75          </td><td>NA            </td></tr>\n",
       "</tbody>\n",
       "</table>\n"
      ],
      "text/latex": [
       "\\begin{tabular}{r|lll}\n",
       "  & gene\\_name & dn\\_ds & annotation\\_data\\\\\n",
       "\\hline\n",
       "\t0 & gene1198.fasta & 0.246913580247 & NA            \\\\\n",
       "\t1 & gene1199.fasta & 0.342857142857 & NA            \\\\\n",
       "\t2 & gene1200.fasta & 0              & NA            \\\\\n",
       "\t3 & gene1201.fasta & 6              & NA            \\\\\n",
       "\t4 & gene1202.fasta & 2.66666666667  & NA            \\\\\n",
       "\t5 & gene1203.fasta & 2.75           & NA            \\\\\n",
       "\\end{tabular}\n"
      ],
      "text/plain": [
       "       gene_name     dn_ds annotation_data\n",
       "0 gene1198.fasta 0.2469136              NA\n",
       "1 gene1199.fasta 0.3428571              NA\n",
       "2 gene1200.fasta 0.0000000              NA\n",
       "3 gene1201.fasta 6.0000000              NA\n",
       "4 gene1202.fasta 2.6666667              NA\n",
       "5 gene1203.fasta 2.7500000              NA"
      ]
     },
     "metadata": {},
     "output_type": "display_data"
    }
   ],
   "source": [
    "head(dat)"
   ]
  },
  {
   "cell_type": "code",
   "execution_count": 15,
   "metadata": {
    "collapsed": true
   },
   "outputs": [],
   "source": [
    "gff_annotations <- readLines('GCF_000529525.1_Methanobrevibacter_oralis_JMR01_genomic.gff')"
   ]
  },
  {
   "cell_type": "code",
   "execution_count": 22,
   "metadata": {
    "collapsed": false
   },
   "outputs": [],
   "source": [
    "for(i in 1:nrow(dat)){\n",
    "    gene_search <- gsub('[.]fasta', '', dat[i, 1])\n",
    "    matches_gff <- grep(paste0(gene_search, ';'), gff_annotations, value = T)\n",
    "    dat$annotation_data[i] <- matches_gff[2]\n",
    "} "
   ]
  },
  {
   "cell_type": "code",
   "execution_count": 29,
   "metadata": {
    "collapsed": false
   },
   "outputs": [
    {
     "data": {
      "text/html": [
       "<table>\n",
       "<thead><tr><th></th><th scope=col>gene_name</th><th scope=col>dn_ds</th><th scope=col>annotation_data</th></tr></thead>\n",
       "<tbody>\n",
       "\t<tr><th scope=row>8</th><td>gene1206.fasta                                                                                                                                                                                                                          </td><td>12                                                                                                                                                                                                                                      </td><td>NZ_HG796201.1\tProtein Homology\tCDS\t265100\t265504\t.\t+\t0\tID=cds1179;Parent=gene1206;Dbxref=Genbank:WP_042693692.1;Name=WP_042693692.1;gbkey=CDS;product=DNA mismatch repair protein MutT;protein_id=WP_042693692.1;transl_table=11</td></tr>\n",
       "\t<tr><th scope=row>3</th><td>gene1201.fasta                                                                                                                                                                                                        </td><td>6                                                                                                                                                                                                                     </td><td>NZ_HG796201.1\tGeneMarkS+\tCDS\t261612\t262088\t.\t-\t0\tID=cds1174;Parent=gene1201;Dbxref=Genbank:WP_042693685.1;Name=WP_042693685.1;gbkey=CDS;product=hypothetical protein;protein_id=WP_042693685.1;transl_table=11</td></tr>\n",
       "\t<tr><th scope=row>6</th><td>gene1204.fasta                                                                                                                                                                                                        </td><td>6                                                                                                                                                                                                                     </td><td>NZ_HG796201.1\tGeneMarkS+\tCDS\t263932\t264147\t.\t-\t0\tID=cds1177;Parent=gene1204;Dbxref=Genbank:WP_042693690.1;Name=WP_042693690.1;gbkey=CDS;product=hypothetical protein;protein_id=WP_042693690.1;transl_table=11</td></tr>\n",
       "\t<tr><th scope=row>7</th><td>gene1205.fasta                                                                                                                                                                                                        </td><td>6                                                                                                                                                                                                                     </td><td>NZ_HG796201.1\tGeneMarkS+\tCDS\t264354\t264653\t.\t-\t0\tID=cds1178;Parent=gene1205;Dbxref=Genbank:WP_042693691.1;Name=WP_042693691.1;gbkey=CDS;product=hypothetical protein;protein_id=WP_042693691.1;transl_table=11</td></tr>\n",
       "\t<tr><th scope=row>70</th><td>gene269.fasta                                                                                                                                                                                                                       </td><td>3.63636363636                                                                                                                                                                                                                       </td><td>NZ_HG796199.1\tProtein Homology\tCDS\t261730\t262899\t.\t+\t0\tID=cds261;Parent=gene269;Dbxref=Genbank:WP_042691703.1;Name=WP_042691703.1;gbkey=CDS;product=conjugal transfer protein TraB;protein_id=WP_042691703.1;transl_table=11</td></tr>\n",
       "\t<tr><th scope=row>72</th><td>gene271.fasta                                                                                                                                                                                                             </td><td>3.3                                                                                                                                                                                                                       </td><td>NZ_HG796199.1\tProtein Homology\tCDS\t263189\t264511\t.\t+\t0\tID=cds263;Parent=gene271;Dbxref=Genbank:WP_042691708.1;Name=WP_042691708.1;gbkey=CDS;product=hypothetical protein;protein_id=WP_042691708.1;transl_table=11</td></tr>\n",
       "</tbody>\n",
       "</table>\n"
      ],
      "text/latex": [
       "\\begin{tabular}{r|lll}\n",
       "  & gene\\_name & dn\\_ds & annotation\\_data\\\\\n",
       "\\hline\n",
       "\t8 & gene1206.fasta                                                                                                                                                                                                                                       & 12                                                                                                                                                                                                                                                   & NZ\\_HG796201.1\tProtein Homology\tCDS\t265100\t265504\t.\t+\t0\tID=cds1179;Parent=gene1206;Dbxref=Genbank:WP\\_042693692.1;Name=WP\\_042693692.1;gbkey=CDS;product=DNA mismatch repair protein MutT;protein\\_id=WP\\_042693692.1;transl\\_table=11\\\\\n",
       "\t3 & gene1201.fasta                                                                                                                                                                                                                     & 6                                                                                                                                                                                                                                  & NZ\\_HG796201.1\tGeneMarkS+\tCDS\t261612\t262088\t.\t-\t0\tID=cds1174;Parent=gene1201;Dbxref=Genbank:WP\\_042693685.1;Name=WP\\_042693685.1;gbkey=CDS;product=hypothetical protein;protein\\_id=WP\\_042693685.1;transl\\_table=11\\\\\n",
       "\t6 & gene1204.fasta                                                                                                                                                                                                                     & 6                                                                                                                                                                                                                                  & NZ\\_HG796201.1\tGeneMarkS+\tCDS\t263932\t264147\t.\t-\t0\tID=cds1177;Parent=gene1204;Dbxref=Genbank:WP\\_042693690.1;Name=WP\\_042693690.1;gbkey=CDS;product=hypothetical protein;protein\\_id=WP\\_042693690.1;transl\\_table=11\\\\\n",
       "\t7 & gene1205.fasta                                                                                                                                                                                                                     & 6                                                                                                                                                                                                                                  & NZ\\_HG796201.1\tGeneMarkS+\tCDS\t264354\t264653\t.\t-\t0\tID=cds1178;Parent=gene1205;Dbxref=Genbank:WP\\_042693691.1;Name=WP\\_042693691.1;gbkey=CDS;product=hypothetical protein;protein\\_id=WP\\_042693691.1;transl\\_table=11\\\\\n",
       "\t70 & gene269.fasta                                                                                                                                                                                                                                    & 3.63636363636                                                                                                                                                                                                                                    & NZ\\_HG796199.1\tProtein Homology\tCDS\t261730\t262899\t.\t+\t0\tID=cds261;Parent=gene269;Dbxref=Genbank:WP\\_042691703.1;Name=WP\\_042691703.1;gbkey=CDS;product=conjugal transfer protein TraB;protein\\_id=WP\\_042691703.1;transl\\_table=11\\\\\n",
       "\t72 & gene271.fasta                                                                                                                                                                                                                          & 3.3                                                                                                                                                                                                                                    & NZ\\_HG796199.1\tProtein Homology\tCDS\t263189\t264511\t.\t+\t0\tID=cds263;Parent=gene271;Dbxref=Genbank:WP\\_042691708.1;Name=WP\\_042691708.1;gbkey=CDS;product=hypothetical protein;protein\\_id=WP\\_042691708.1;transl\\_table=11\\\\\n",
       "\\end{tabular}\n"
      ],
      "text/plain": [
       "        gene_name     dn_ds\n",
       "8  gene1206.fasta 12.000000\n",
       "3  gene1201.fasta  6.000000\n",
       "6  gene1204.fasta  6.000000\n",
       "7  gene1205.fasta  6.000000\n",
       "70  gene269.fasta  3.636364\n",
       "72  gene271.fasta  3.300000\n",
       "                                                                                                                                                                                                                            annotation_data\n",
       "8  NZ_HG796201.1\\tProtein Homology\\tCDS\\t265100\\t265504\\t.\\t+\\t0\\tID=cds1179;Parent=gene1206;Dbxref=Genbank:WP_042693692.1;Name=WP_042693692.1;gbkey=CDS;product=DNA mismatch repair protein MutT;protein_id=WP_042693692.1;transl_table=11\n",
       "3                    NZ_HG796201.1\\tGeneMarkS+\\tCDS\\t261612\\t262088\\t.\\t-\\t0\\tID=cds1174;Parent=gene1201;Dbxref=Genbank:WP_042693685.1;Name=WP_042693685.1;gbkey=CDS;product=hypothetical protein;protein_id=WP_042693685.1;transl_table=11\n",
       "6                    NZ_HG796201.1\\tGeneMarkS+\\tCDS\\t263932\\t264147\\t.\\t-\\t0\\tID=cds1177;Parent=gene1204;Dbxref=Genbank:WP_042693690.1;Name=WP_042693690.1;gbkey=CDS;product=hypothetical protein;protein_id=WP_042693690.1;transl_table=11\n",
       "7                    NZ_HG796201.1\\tGeneMarkS+\\tCDS\\t264354\\t264653\\t.\\t-\\t0\\tID=cds1178;Parent=gene1205;Dbxref=Genbank:WP_042693691.1;Name=WP_042693691.1;gbkey=CDS;product=hypothetical protein;protein_id=WP_042693691.1;transl_table=11\n",
       "70     NZ_HG796199.1\\tProtein Homology\\tCDS\\t261730\\t262899\\t.\\t+\\t0\\tID=cds261;Parent=gene269;Dbxref=Genbank:WP_042691703.1;Name=WP_042691703.1;gbkey=CDS;product=conjugal transfer protein TraB;protein_id=WP_042691703.1;transl_table=11\n",
       "72               NZ_HG796199.1\\tProtein Homology\\tCDS\\t263189\\t264511\\t.\\t+\\t0\\tID=cds263;Parent=gene271;Dbxref=Genbank:WP_042691708.1;Name=WP_042691708.1;gbkey=CDS;product=hypothetical protein;protein_id=WP_042691708.1;transl_table=11"
      ]
     },
     "metadata": {},
     "output_type": "display_data"
    }
   ],
   "source": [
    "head(dat[order(dat$dn_ds, decreasing = T), ])"
   ]
  },
  {
   "cell_type": "code",
   "execution_count": 26,
   "metadata": {
    "collapsed": false
   },
   "outputs": [],
   "source": [
    "write.table(dat, file = 'coding_genes_moralis_ref_ancient_dnds_ANNOTATIONS.csv',\n",
    "           sep = ',', row.names = F)"
   ]
  },
  {
   "cell_type": "code",
   "execution_count": 27,
   "metadata": {
    "collapsed": false
   },
   "outputs": [
    {
     "data": {
      "text/html": [
       "<ol class=list-inline>\n",
       "\t<li>'NZ_HG796200.1\tRefSeq\tgene\t455575\t457044\t.\t-\t.\tID=gene932;Name=TY05_RS04610;gbkey=Gene;gene_biotype=protein_coding;locus_tag=TY05_RS04610'</li>\n",
       "\t<li>'NZ_HG796200.1\tProtein Homology\tCDS\t455575\t457044\t.\t-\t0\tID=cds910;Parent=gene932;Dbxref=Genbank:WP_042693174.1;Name=WP_042693174.1;Note=catalyzes condensation of pyruvate and acetyl-CoA to form (R)-citramalate%3B functions in isoleucine synthesis%3B belongs to the alpha-IPM synthetase/homocitrate synthase family%3B it is difficult distinguishing these proteins from enzymes in that family;gbkey=CDS;product=2-isopropylmalate synthase;protein_id=WP_042693174.1;transl_table=11'</li>\n",
       "</ol>\n"
      ],
      "text/latex": [
       "\\begin{enumerate*}\n",
       "\\item 'NZ\\_HG796200.1\tRefSeq\tgene\t455575\t457044\t.\t-\t.\tID=gene932;Name=TY05\\_RS04610;gbkey=Gene;gene\\_biotype=protein\\_coding;locus\\_tag=TY05\\_RS04610'\n",
       "\\item 'NZ\\_HG796200.1\tProtein Homology\tCDS\t455575\t457044\t.\t-\t0\tID=cds910;Parent=gene932;Dbxref=Genbank:WP\\_042693174.1;Name=WP\\_042693174.1;Note=catalyzes condensation of pyruvate and acetyl-CoA to form (R)-citramalate\\%3B functions in isoleucine synthesis\\%3B belongs to the alpha-IPM synthetase/homocitrate synthase family\\%3B it is difficult distinguishing these proteins from enzymes in that family;gbkey=CDS;product=2-isopropylmalate synthase;protein\\_id=WP\\_042693174.1;transl\\_table=11'\n",
       "\\end{enumerate*}\n"
      ],
      "text/markdown": [
       "1. 'NZ_HG796200.1\tRefSeq\tgene\t455575\t457044\t.\t-\t.\tID=gene932;Name=TY05_RS04610;gbkey=Gene;gene_biotype=protein_coding;locus_tag=TY05_RS04610'\n",
       "2. 'NZ_HG796200.1\tProtein Homology\tCDS\t455575\t457044\t.\t-\t0\tID=cds910;Parent=gene932;Dbxref=Genbank:WP_042693174.1;Name=WP_042693174.1;Note=catalyzes condensation of pyruvate and acetyl-CoA to form (R)-citramalate%3B functions in isoleucine synthesis%3B belongs to the alpha-IPM synthetase/homocitrate synthase family%3B it is difficult distinguishing these proteins from enzymes in that family;gbkey=CDS;product=2-isopropylmalate synthase;protein_id=WP_042693174.1;transl_table=11'\n",
       "\n",
       "\n"
      ],
      "text/plain": [
       "[1] \"NZ_HG796200.1\\tRefSeq\\tgene\\t455575\\t457044\\t.\\t-\\t.\\tID=gene932;Name=TY05_RS04610;gbkey=Gene;gene_biotype=protein_coding;locus_tag=TY05_RS04610\"                                                                                                                                                                                                                                                                                                                                                    \n",
       "[2] \"NZ_HG796200.1\\tProtein Homology\\tCDS\\t455575\\t457044\\t.\\t-\\t0\\tID=cds910;Parent=gene932;Dbxref=Genbank:WP_042693174.1;Name=WP_042693174.1;Note=catalyzes condensation of pyruvate and acetyl-CoA to form (R)-citramalate%3B functions in isoleucine synthesis%3B belongs to the alpha-IPM synthetase/homocitrate synthase family%3B it is difficult distinguishing these proteins from enzymes in that family;gbkey=CDS;product=2-isopropylmalate synthase;protein_id=WP_042693174.1;transl_table=11\""
      ]
     },
     "metadata": {},
     "output_type": "display_data"
    }
   ],
   "source": [
    "matches_gff"
   ]
  },
  {
   "cell_type": "code",
   "execution_count": null,
   "metadata": {
    "collapsed": true
   },
   "outputs": [],
   "source": []
  }
 ],
 "metadata": {
  "kernelspec": {
   "display_name": "R",
   "language": "R",
   "name": "ir"
  },
  "language_info": {
   "codemirror_mode": "r",
   "file_extension": ".r",
   "mimetype": "text/x-r-source",
   "name": "R",
   "pygments_lexer": "r",
   "version": "3.3.1"
  }
 },
 "nbformat": 4,
 "nbformat_minor": 0
}
