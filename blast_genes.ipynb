{
 "cells": [
  {
   "cell_type": "code",
   "execution_count": 19,
   "metadata": {
    "collapsed": true
   },
   "outputs": [],
   "source": [
    "import os, re\n",
    "import Bio\n",
    "from Bio.Blast import NCBIWWW\n",
    "from Bio.Blast import NCBIXML\n",
    "from Bio import SeqIO"
   ]
  },
  {
   "cell_type": "code",
   "execution_count": 57,
   "metadata": {
    "collapsed": true
   },
   "outputs": [],
   "source": [
    "q_seq = 'gene1204.fasta'\n",
    "seq_query = Bio.SeqIO.to_dict(Bio.SeqIO.parse(open('coding_genes_moralis_ref_ancient/'+q_seq, 'r'), 'fasta'))\n",
    "seq_ref = seq_query['MethanobrevibacteroralisJMR01']"
   ]
  },
  {
   "cell_type": "code",
   "execution_count": 58,
   "metadata": {
    "collapsed": false
   },
   "outputs": [],
   "source": [
    "result_handle = NCBIXML.read(NCBIWWW.qblast('blastn', 'nt', seq_ref.seq))"
   ]
  },
  {
   "cell_type": "code",
   "execution_count": 61,
   "metadata": {
    "collapsed": false
   },
   "outputs": [],
   "source": [
    "out_handle = open(re.sub('[.]fasta', 'blast_match.txt', q_seq), 'w')\n",
    "out_handle.write(result_handle.alignments[0].title+'\\n')\n",
    "for i in result_handle.alignments[0].hsps:\n",
    "    out_handle.write(i.query+'\\n')\n",
    "    out_handle.write(i.match+'\\n')\n",
    "    out_handle.write(i.sbjct+'\\n')\n",
    "out_handle.close()"
   ]
  },
  {
   "cell_type": "code",
   "execution_count": null,
   "metadata": {
    "collapsed": false
   },
   "outputs": [],
   "source": []
  },
  {
   "cell_type": "code",
   "execution_count": null,
   "metadata": {
    "collapsed": true
   },
   "outputs": [],
   "source": []
  }
 ],
 "metadata": {
  "kernelspec": {
   "display_name": "Python 2",
   "language": "python",
   "name": "python2"
  },
  "language_info": {
   "codemirror_mode": {
    "name": "ipython",
    "version": 2
   },
   "file_extension": ".py",
   "mimetype": "text/x-python",
   "name": "python",
   "nbconvert_exporter": "python",
   "pygments_lexer": "ipython2",
   "version": "2.7.11"
  }
 },
 "nbformat": 4,
 "nbformat_minor": 0
}
