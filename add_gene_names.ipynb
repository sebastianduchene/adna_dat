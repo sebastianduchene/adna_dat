{
 "cells": [
  {
   "cell_type": "code",
   "execution_count": 13,
   "metadata": {
    "collapsed": true
   },
   "outputs": [],
   "source": [
    "dat <- read.table('coding_genes_moralis_ref_ancient_dnds.csv', head = T, \n",
    "                  sep = ',', row.names = 1)\n",
    "dat$annotation_data <- NA"
   ]
  },
  {
   "cell_type": "code",
   "execution_count": 14,
   "metadata": {
    "collapsed": false
   },
   "outputs": [
    {
     "data": {
      "text/html": [
       "<table>\n",
       "<thead><tr><th></th><th scope=col>gene_name</th><th scope=col>dn_ds</th><th scope=col>annotation_data</th></tr></thead>\n",
       "<tbody>\n",
       "\t<tr><th scope=row>0</th><td>gene1198.fasta</td><td>0.246913580247</td><td>NA            </td></tr>\n",
       "\t<tr><th scope=row>1</th><td>gene1199.fasta</td><td>0.342857142857</td><td>NA            </td></tr>\n",
       "\t<tr><th scope=row>2</th><td>gene1200.fasta</td><td>0             </td><td>NA            </td></tr>\n",
       "\t<tr><th scope=row>3</th><td>gene1201.fasta</td><td>6             </td><td>NA            </td></tr>\n",
       "\t<tr><th scope=row>4</th><td>gene1202.fasta</td><td>2.66666666667 </td><td>NA            </td></tr>\n",
       "\t<tr><th scope=row>5</th><td>gene1203.fasta</td><td>2.75          </td><td>NA            </td></tr>\n",
       "</tbody>\n",
       "</table>\n"
      ],
      "text/latex": [
       "\\begin{tabular}{r|lll}\n",
       "  & gene\\_name & dn\\_ds & annotation\\_data\\\\\n",
       "\\hline\n",
       "\t0 & gene1198.fasta & 0.246913580247 & NA            \\\\\n",
       "\t1 & gene1199.fasta & 0.342857142857 & NA            \\\\\n",
       "\t2 & gene1200.fasta & 0              & NA            \\\\\n",
       "\t3 & gene1201.fasta & 6              & NA            \\\\\n",
       "\t4 & gene1202.fasta & 2.66666666667  & NA            \\\\\n",
       "\t5 & gene1203.fasta & 2.75           & NA            \\\\\n",
       "\\end{tabular}\n"
      ],
      "text/plain": [
       "       gene_name     dn_ds annotation_data\n",
       "0 gene1198.fasta 0.2469136              NA\n",
       "1 gene1199.fasta 0.3428571              NA\n",
       "2 gene1200.fasta 0.0000000              NA\n",
       "3 gene1201.fasta 6.0000000              NA\n",
       "4 gene1202.fasta 2.6666667              NA\n",
       "5 gene1203.fasta 2.7500000              NA"
      ]
     },
     "metadata": {},
     "output_type": "display_data"
    }
   ],
   "source": [
    "head(dat)"
   ]
  },
  {
   "cell_type": "code",
   "execution_count": 15,
   "metadata": {
    "collapsed": true
   },
   "outputs": [],
   "source": [
    "gff_annotations <- readLines('GCF_000529525.1_Methanobrevibacter_oralis_JMR01_genomic.gff')"
   ]
  },
  {
   "cell_type": "code",
   "execution_count": 22,
   "metadata": {
    "collapsed": false
   },
   "outputs": [],
   "source": [
    "for(i in 1:nrow(dat)){\n",
    "    gene_search <- gsub('[.]fasta', '', dat[i, 1])\n",
    "    matches_gff <- grep(paste0(gene_search, ';'), gff_annotations, value = T)\n",
    "    dat$annotation_data[i] <- matches_gff[2]\n",
    "} "
   ]
  },
  {
   "cell_type": "code",
   "execution_count": 24,
   "metadata": {
    "collapsed": false
   },
   "outputs": [
    {
     "data": {
      "text/html": [
       "<table>\n",
       "<thead><tr><th></th><th scope=col>gene_name</th><th scope=col>dn_ds</th><th scope=col>annotation_data</th></tr></thead>\n",
       "<tbody>\n",
       "\t<tr><th scope=row>0</th><td>gene1198.fasta                                                                                                                                                                                                        </td><td>0.246913580247                                                                                                                                                                                                        </td><td>NZ_HG796201.1\tGeneMarkS+\tCDS\t259640\t260095\t.\t-\t0\tID=cds1171;Parent=gene1198;Dbxref=Genbank:WP_042693681.1;Name=WP_042693681.1;gbkey=CDS;product=hypothetical protein;protein_id=WP_042693681.1;transl_table=11</td></tr>\n",
       "\t<tr><th scope=row>1</th><td>gene1199.fasta                                                                                                                                                                                                        </td><td>0.342857142857                                                                                                                                                                                                        </td><td>NZ_HG796201.1\tGeneMarkS+\tCDS\t260384\t260566\t.\t-\t0\tID=cds1172;Parent=gene1199;Dbxref=Genbank:WP_042693683.1;Name=WP_042693683.1;gbkey=CDS;product=hypothetical protein;protein_id=WP_042693683.1;transl_table=11</td></tr>\n",
       "\t<tr><th scope=row>2</th><td>gene1200.fasta                                                                                                                                                                                                        </td><td>0                                                                                                                                                                                                                     </td><td>NZ_HG796201.1\tGeneMarkS+\tCDS\t261170\t261595\t.\t-\t0\tID=cds1173;Parent=gene1200;Dbxref=Genbank:WP_042693684.1;Name=WP_042693684.1;gbkey=CDS;product=hypothetical protein;protein_id=WP_042693684.1;transl_table=11</td></tr>\n",
       "\t<tr><th scope=row>3</th><td>gene1201.fasta                                                                                                                                                                                                        </td><td>6                                                                                                                                                                                                                     </td><td>NZ_HG796201.1\tGeneMarkS+\tCDS\t261612\t262088\t.\t-\t0\tID=cds1174;Parent=gene1201;Dbxref=Genbank:WP_042693685.1;Name=WP_042693685.1;gbkey=CDS;product=hypothetical protein;protein_id=WP_042693685.1;transl_table=11</td></tr>\n",
       "\t<tr><th scope=row>4</th><td>gene1202.fasta                                                                                                                                                                                                              </td><td>2.66666666667                                                                                                                                                                                                               </td><td>NZ_HG796201.1\tProtein Homology\tCDS\t262305\t262562\t.\t-\t0\tID=cds1175;Parent=gene1202;Dbxref=Genbank:WP_042693687.1;Name=WP_042693687.1;gbkey=CDS;product=hypothetical protein;protein_id=WP_042693687.1;transl_table=11</td></tr>\n",
       "\t<tr><th scope=row>5</th><td>gene1203.fasta                                                                                                                                                                                                        </td><td>2.75                                                                                                                                                                                                                  </td><td>NZ_HG796201.1\tGeneMarkS+\tCDS\t262836\t263366\t.\t-\t0\tID=cds1176;Parent=gene1203;Dbxref=Genbank:WP_042693688.1;Name=WP_042693688.1;gbkey=CDS;product=hypothetical protein;protein_id=WP_042693688.1;transl_table=11</td></tr>\n",
       "</tbody>\n",
       "</table>\n"
      ],
      "text/latex": [
       "\\begin{tabular}{r|lll}\n",
       "  & gene\\_name & dn\\_ds & annotation\\_data\\\\\n",
       "\\hline\n",
       "\t0 & gene1198.fasta                                                                                                                                                                                                                     & 0.246913580247                                                                                                                                                                                                                     & NZ\\_HG796201.1\tGeneMarkS+\tCDS\t259640\t260095\t.\t-\t0\tID=cds1171;Parent=gene1198;Dbxref=Genbank:WP\\_042693681.1;Name=WP\\_042693681.1;gbkey=CDS;product=hypothetical protein;protein\\_id=WP\\_042693681.1;transl\\_table=11\\\\\n",
       "\t1 & gene1199.fasta                                                                                                                                                                                                                     & 0.342857142857                                                                                                                                                                                                                     & NZ\\_HG796201.1\tGeneMarkS+\tCDS\t260384\t260566\t.\t-\t0\tID=cds1172;Parent=gene1199;Dbxref=Genbank:WP\\_042693683.1;Name=WP\\_042693683.1;gbkey=CDS;product=hypothetical protein;protein\\_id=WP\\_042693683.1;transl\\_table=11\\\\\n",
       "\t2 & gene1200.fasta                                                                                                                                                                                                                     & 0                                                                                                                                                                                                                                  & NZ\\_HG796201.1\tGeneMarkS+\tCDS\t261170\t261595\t.\t-\t0\tID=cds1173;Parent=gene1200;Dbxref=Genbank:WP\\_042693684.1;Name=WP\\_042693684.1;gbkey=CDS;product=hypothetical protein;protein\\_id=WP\\_042693684.1;transl\\_table=11\\\\\n",
       "\t3 & gene1201.fasta                                                                                                                                                                                                                     & 6                                                                                                                                                                                                                                  & NZ\\_HG796201.1\tGeneMarkS+\tCDS\t261612\t262088\t.\t-\t0\tID=cds1174;Parent=gene1201;Dbxref=Genbank:WP\\_042693685.1;Name=WP\\_042693685.1;gbkey=CDS;product=hypothetical protein;protein\\_id=WP\\_042693685.1;transl\\_table=11\\\\\n",
       "\t4 & gene1202.fasta                                                                                                                                                                                                                           & 2.66666666667                                                                                                                                                                                                                            & NZ\\_HG796201.1\tProtein Homology\tCDS\t262305\t262562\t.\t-\t0\tID=cds1175;Parent=gene1202;Dbxref=Genbank:WP\\_042693687.1;Name=WP\\_042693687.1;gbkey=CDS;product=hypothetical protein;protein\\_id=WP\\_042693687.1;transl\\_table=11\\\\\n",
       "\t5 & gene1203.fasta                                                                                                                                                                                                                     & 2.75                                                                                                                                                                                                                               & NZ\\_HG796201.1\tGeneMarkS+\tCDS\t262836\t263366\t.\t-\t0\tID=cds1176;Parent=gene1203;Dbxref=Genbank:WP\\_042693688.1;Name=WP\\_042693688.1;gbkey=CDS;product=hypothetical protein;protein\\_id=WP\\_042693688.1;transl\\_table=11\\\\\n",
       "\\end{tabular}\n"
      ],
      "text/plain": [
       "       gene_name     dn_ds\n",
       "0 gene1198.fasta 0.2469136\n",
       "1 gene1199.fasta 0.3428571\n",
       "2 gene1200.fasta 0.0000000\n",
       "3 gene1201.fasta 6.0000000\n",
       "4 gene1202.fasta 2.6666667\n",
       "5 gene1203.fasta 2.7500000\n",
       "                                                                                                                                                                                                               annotation_data\n",
       "0       NZ_HG796201.1\\tGeneMarkS+\\tCDS\\t259640\\t260095\\t.\\t-\\t0\\tID=cds1171;Parent=gene1198;Dbxref=Genbank:WP_042693681.1;Name=WP_042693681.1;gbkey=CDS;product=hypothetical protein;protein_id=WP_042693681.1;transl_table=11\n",
       "1       NZ_HG796201.1\\tGeneMarkS+\\tCDS\\t260384\\t260566\\t.\\t-\\t0\\tID=cds1172;Parent=gene1199;Dbxref=Genbank:WP_042693683.1;Name=WP_042693683.1;gbkey=CDS;product=hypothetical protein;protein_id=WP_042693683.1;transl_table=11\n",
       "2       NZ_HG796201.1\\tGeneMarkS+\\tCDS\\t261170\\t261595\\t.\\t-\\t0\\tID=cds1173;Parent=gene1200;Dbxref=Genbank:WP_042693684.1;Name=WP_042693684.1;gbkey=CDS;product=hypothetical protein;protein_id=WP_042693684.1;transl_table=11\n",
       "3       NZ_HG796201.1\\tGeneMarkS+\\tCDS\\t261612\\t262088\\t.\\t-\\t0\\tID=cds1174;Parent=gene1201;Dbxref=Genbank:WP_042693685.1;Name=WP_042693685.1;gbkey=CDS;product=hypothetical protein;protein_id=WP_042693685.1;transl_table=11\n",
       "4 NZ_HG796201.1\\tProtein Homology\\tCDS\\t262305\\t262562\\t.\\t-\\t0\\tID=cds1175;Parent=gene1202;Dbxref=Genbank:WP_042693687.1;Name=WP_042693687.1;gbkey=CDS;product=hypothetical protein;protein_id=WP_042693687.1;transl_table=11\n",
       "5       NZ_HG796201.1\\tGeneMarkS+\\tCDS\\t262836\\t263366\\t.\\t-\\t0\\tID=cds1176;Parent=gene1203;Dbxref=Genbank:WP_042693688.1;Name=WP_042693688.1;gbkey=CDS;product=hypothetical protein;protein_id=WP_042693688.1;transl_table=11"
      ]
     },
     "metadata": {},
     "output_type": "display_data"
    }
   ],
   "source": [
    "head(dat)"
   ]
  },
  {
   "cell_type": "code",
   "execution_count": null,
   "metadata": {
    "collapsed": false
   },
   "outputs": [],
   "source": [
    "write.table(dat, file = 'coding_genes_moralis_ref_ancient_dnds_ABB.csv')"
   ]
  },
  {
   "cell_type": "code",
   "execution_count": null,
   "metadata": {
    "collapsed": true
   },
   "outputs": [],
   "source": []
  }
 ],
 "metadata": {
  "kernelspec": {
   "display_name": "R",
   "language": "R",
   "name": "ir"
  },
  "language_info": {
   "codemirror_mode": "r",
   "file_extension": ".r",
   "mimetype": "text/x-r-source",
   "name": "R",
   "pygments_lexer": "r",
   "version": "3.3.1"
  }
 },
 "nbformat": 4,
 "nbformat_minor": 0
}
